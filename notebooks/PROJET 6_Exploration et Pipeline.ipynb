{
 "cells": [
  {
   "cell_type": "markdown",
   "metadata": {},
   "source": [
    "# PROJET 6 : Partie 1- Exploration et préparation de la pipeline\n"
   ]
  },
  {
   "cell_type": "markdown",
   "metadata": {},
   "source": [
    "## Introduction au Projet"
   ]
  },
  {
   "cell_type": "markdown",
   "metadata": {},
   "source": [
    "Stack Overflow est un site célèbre de question-réponses liées au développement informatique. Pour poser une question sur ce site, il faut entrer plusieurs tags de manière à retrouver facilement la question par la suite. Pour les utilisateurs expérimentés cela ne pose pas de problème, mais pour les nouveaux utilisateurs, il serait judicieux de suggérer quelques tags relatifs à la question posée.\n",
    "\n",
    "Amateur de Stack Overflow, qui vous a souvent sauvé la mise, vous décidez d'aider la communauté en retour. Pour cela, vous développez un système de suggestion de tag pour le site. Celui-ci prendra la forme d’un algorithme de machine learning qui assigne automatiquement plusieurs tags pertinents à une question.\n",
    "\n",
    "Les données\n",
    "Stack Overflow propose un outil d’export de données : \"stackexchange explorer\", qui recense un grand nombre de données authentiques de la plateforme d’entraide. "
   ]
  },
  {
   "cell_type": "markdown",
   "metadata": {},
   "source": [
    "### Contraintes"
   ]
  },
  {
   "cell_type": "markdown",
   "metadata": {},
   "source": [
    "<p>Mettre en &oelig;uvre une approche non supervis&eacute;e.</p>\n",
    "<p>Utiliser une approche supervis&eacute;e ou non pour extraire des tags &agrave; partir des r&eacute;sultats pr&eacute;c&eacute;dents.</p>\n",
    "<p>Comparer ses r&eacute;sultats &agrave; une approche purement supervis&eacute;e, apr&egrave;s avoir appliqu&eacute; des m&eacute;thodes d&rsquo;extraction de features sp&eacute;cifiques des donn&eacute;es textuelles.</p>\n",
    "<p>Mettre en place une m&eacute;thode d&rsquo;&eacute;valuation propre, avec une s&eacute;paration du jeu de donn&eacute;es pour l&rsquo;&eacute;valuation.</p>\n",
    "<p>Pour suivre les modifications du code final &agrave; d&eacute;ployer, utiliser un logiciel de gestion de versions, par exemple git.</p>"
   ]
  },
  {
   "cell_type": "markdown",
   "metadata": {},
   "source": [
    "# Prétraitement des données"
   ]
  },
  {
   "cell_type": "markdown",
   "metadata": {},
   "source": [
    "### Import des librairies"
   ]
  },
  {
   "cell_type": "code",
   "execution_count": 1,
   "metadata": {},
   "outputs": [
    {
     "name": "stdout",
     "output_type": "stream",
     "text": [
      "[nltk_data] Downloading package wordnet to C:\\Users\\Windows\n",
      "[nltk_data]     10\\AppData\\Roaming\\nltk_data...\n",
      "[nltk_data]   Package wordnet is already up-to-date!\n",
      "[nltk_data] Downloading package stopwords to C:\\Users\\Windows\n",
      "[nltk_data]     10\\AppData\\Roaming\\nltk_data...\n",
      "[nltk_data]   Package stopwords is already up-to-date!\n"
     ]
    }
   ],
   "source": [
    "import pandas as pd\n",
    "import os\n",
    "import numpy as np\n",
    "import urllib\n",
    "import nltk\n",
    "from bs4 import BeautifulSoup\n",
    "from nltk.corpus import stopwords\n",
    "from nltk.tokenize import sent_tokenize, word_tokenize\n",
    "from sklearn.feature_extraction.text import CountVectorizer\n",
    "from sklearn.feature_extraction.text import TfidfVectorizer\n",
    "from sklearn import model_selection\n",
    "from nltk.stem import WordNetLemmatizer\n",
    "import warnings\n",
    "warnings.filterwarnings(\"ignore\")\n",
    "import re\n",
    "nltk.download('wordnet')\n",
    "nltk.download('stopwords')\n",
    "from nltk.corpus import stopwords, wordnet\n",
    "import matplotlib.pyplot as plt\n",
    "import seaborn as sns\n",
    "import scipy\n",
    "import mglearn\n",
    "from mglearn import tools\n",
    "from sklearn.externals import joblib\n",
    "# Plotting tools\n",
    "import matplotlib.pyplot as plt\n",
    "import glob\n",
    "\n",
    "%matplotlib inline"
   ]
  },
  {
   "cell_type": "markdown",
   "metadata": {},
   "source": [
    "### Chargement des données"
   ]
  },
  {
   "cell_type": "code",
   "execution_count": 48,
   "metadata": {
    "code_folding": []
   },
   "outputs": [
    {
     "name": "stdout",
     "output_type": "stream",
     "text": [
      "Chargement du fichier: C:\\Users\\Windows 10\\Desktop\\Formations\\OpenClassRooms\\Projet 6\\data\\QueryResults1.csv\n",
      "Chargement du fichier: C:\\Users\\Windows 10\\Desktop\\Formations\\OpenClassRooms\\Projet 6\\data\\QueryResults3.csv\n",
      "Chargement du fichier: C:\\Users\\Windows 10\\Desktop\\Formations\\OpenClassRooms\\Projet 6\\data\\QueryResults4.csv\n",
      "Chargement du fichier: C:\\Users\\Windows 10\\Desktop\\Formations\\OpenClassRooms\\Projet 6\\data\\QueryResults5.csv\n",
      "Chargement du fichier: C:\\Users\\Windows 10\\Desktop\\Formations\\OpenClassRooms\\Projet 6\\data\\QueryResults6.csv\n",
      "Chargement du fichier: C:\\Users\\Windows 10\\Desktop\\Formations\\OpenClassRooms\\Projet 6\\data\\QueryResults7.csv\n",
      "Chargement du fichier: C:\\Users\\Windows 10\\Desktop\\Formations\\OpenClassRooms\\Projet 6\\data\\QueryResults8.csv\n",
      "Chargement du fichier: C:\\Users\\Windows 10\\Desktop\\Formations\\OpenClassRooms\\Projet 6\\data\\QueryResults9.csv\n",
      "Concaténation effectuée et dataframe prête\n"
     ]
    }
   ],
   "source": [
    "current_path = os.getcwd()\n",
    "parent_path = os.path.dirname(current_path)\n",
    "import glob\n",
    "allFiles = glob.glob(parent_path + \"\\data\\Query*.csv\")\n",
    "list_ = []\n",
    "for file in allFiles:\n",
    "    print(\"Chargement du fichier: {}\".format(file))\n",
    "    try:\n",
    "        df = pd.read_csv(file,index_col=None, header=0)\n",
    "        list_.append(df)\n",
    "    except FileNotFoundError:\n",
    "        print(\"Merci de vérifier la présence de {} dans le répertoire 'data'\".format(file))\n",
    "df_raw = pd.concat(list_, axis = 0, ignore_index = True)\n",
    "print(\"Concaténation effectuée et dataframe prête\") "
   ]
  },
  {
   "cell_type": "code",
   "execution_count": 49,
   "metadata": {},
   "outputs": [
    {
     "name": "stdout",
     "output_type": "stream",
     "text": [
      "<class 'pandas.core.frame.DataFrame'>\n",
      "RangeIndex: 147665 entries, 0 to 147664\n",
      "Data columns (total 22 columns):\n",
      "Id                       147665 non-null int64\n",
      "PostTypeId               147665 non-null int64\n",
      "AcceptedAnswerId         110015 non-null float64\n",
      "ParentId                 0 non-null float64\n",
      "CreationDate             147665 non-null object\n",
      "DeletionDate             0 non-null float64\n",
      "Score                    147665 non-null int64\n",
      "ViewCount                147665 non-null int64\n",
      "Body                     147665 non-null object\n",
      "OwnerUserId              129994 non-null float64\n",
      "OwnerDisplayName         89232 non-null object\n",
      "LastEditorUserId         93539 non-null float64\n",
      "LastEditorDisplayName    44662 non-null object\n",
      "LastEditDate             95657 non-null object\n",
      "LastActivityDate         147665 non-null object\n",
      "Title                    147665 non-null object\n",
      "Tags                     147665 non-null object\n",
      "AnswerCount              147665 non-null int64\n",
      "CommentCount             147665 non-null int64\n",
      "FavoriteCount            86535 non-null float64\n",
      "ClosedDate               8645 non-null object\n",
      "CommunityOwnedDate       2985 non-null object\n",
      "dtypes: float64(6), int64(6), object(10)\n",
      "memory usage: 24.8+ MB\n"
     ]
    }
   ],
   "source": [
    "df_raw.info()"
   ]
  },
  {
   "cell_type": "code",
   "execution_count": 50,
   "metadata": {},
   "outputs": [],
   "source": [
    "# Chargement d'un échantillon aléatoire\n",
    "df_raw=df_raw.sample(50000, random_state=0)"
   ]
  },
  {
   "cell_type": "code",
   "execution_count": 51,
   "metadata": {},
   "outputs": [
    {
     "data": {
      "text/html": [
       "<div>\n",
       "<style scoped>\n",
       "    .dataframe tbody tr th:only-of-type {\n",
       "        vertical-align: middle;\n",
       "    }\n",
       "\n",
       "    .dataframe tbody tr th {\n",
       "        vertical-align: top;\n",
       "    }\n",
       "\n",
       "    .dataframe thead th {\n",
       "        text-align: right;\n",
       "    }\n",
       "</style>\n",
       "<table border=\"1\" class=\"dataframe\">\n",
       "  <thead>\n",
       "    <tr style=\"text-align: right;\">\n",
       "      <th></th>\n",
       "      <th>Id</th>\n",
       "      <th>PostTypeId</th>\n",
       "      <th>AcceptedAnswerId</th>\n",
       "      <th>ParentId</th>\n",
       "      <th>CreationDate</th>\n",
       "      <th>DeletionDate</th>\n",
       "      <th>Score</th>\n",
       "      <th>ViewCount</th>\n",
       "      <th>Body</th>\n",
       "      <th>OwnerUserId</th>\n",
       "      <th>...</th>\n",
       "      <th>LastEditorDisplayName</th>\n",
       "      <th>LastEditDate</th>\n",
       "      <th>LastActivityDate</th>\n",
       "      <th>Title</th>\n",
       "      <th>Tags</th>\n",
       "      <th>AnswerCount</th>\n",
       "      <th>CommentCount</th>\n",
       "      <th>FavoriteCount</th>\n",
       "      <th>ClosedDate</th>\n",
       "      <th>CommunityOwnedDate</th>\n",
       "    </tr>\n",
       "  </thead>\n",
       "  <tbody>\n",
       "    <tr>\n",
       "      <th>count</th>\n",
       "      <td>50000.000000</td>\n",
       "      <td>50000.0</td>\n",
       "      <td>3.719700e+04</td>\n",
       "      <td>0.0</td>\n",
       "      <td>50000</td>\n",
       "      <td>0.0</td>\n",
       "      <td>50000.000000</td>\n",
       "      <td>5.000000e+04</td>\n",
       "      <td>50000</td>\n",
       "      <td>4.404500e+04</td>\n",
       "      <td>...</td>\n",
       "      <td>15172</td>\n",
       "      <td>32440</td>\n",
       "      <td>50000</td>\n",
       "      <td>50000</td>\n",
       "      <td>50000</td>\n",
       "      <td>50000.000000</td>\n",
       "      <td>50000.000000</td>\n",
       "      <td>29342.00000</td>\n",
       "      <td>2972</td>\n",
       "      <td>973</td>\n",
       "    </tr>\n",
       "    <tr>\n",
       "      <th>unique</th>\n",
       "      <td>NaN</td>\n",
       "      <td>NaN</td>\n",
       "      <td>NaN</td>\n",
       "      <td>NaN</td>\n",
       "      <td>49913</td>\n",
       "      <td>NaN</td>\n",
       "      <td>NaN</td>\n",
       "      <td>NaN</td>\n",
       "      <td>49998</td>\n",
       "      <td>NaN</td>\n",
       "      <td>...</td>\n",
       "      <td>5085</td>\n",
       "      <td>31229</td>\n",
       "      <td>49948</td>\n",
       "      <td>49994</td>\n",
       "      <td>37212</td>\n",
       "      <td>NaN</td>\n",
       "      <td>NaN</td>\n",
       "      <td>NaN</td>\n",
       "      <td>2972</td>\n",
       "      <td>973</td>\n",
       "    </tr>\n",
       "    <tr>\n",
       "      <th>top</th>\n",
       "      <td>NaN</td>\n",
       "      <td>NaN</td>\n",
       "      <td>NaN</td>\n",
       "      <td>NaN</td>\n",
       "      <td>2009-05-15 20:59:05</td>\n",
       "      <td>NaN</td>\n",
       "      <td>NaN</td>\n",
       "      <td>NaN</td>\n",
       "      <td>&lt;p&gt;Anyone have any idea? And any open source s...</td>\n",
       "      <td>NaN</td>\n",
       "      <td>...</td>\n",
       "      <td>Rich B</td>\n",
       "      <td>2017-05-23 12:26:44</td>\n",
       "      <td>2014-08-30 21:07:01</td>\n",
       "      <td>select random file from directory</td>\n",
       "      <td>&lt;c#&gt;</td>\n",
       "      <td>NaN</td>\n",
       "      <td>NaN</td>\n",
       "      <td>NaN</td>\n",
       "      <td>2012-07-13 09:19:47</td>\n",
       "      <td>2010-02-04 22:53:25</td>\n",
       "    </tr>\n",
       "    <tr>\n",
       "      <th>freq</th>\n",
       "      <td>NaN</td>\n",
       "      <td>NaN</td>\n",
       "      <td>NaN</td>\n",
       "      <td>NaN</td>\n",
       "      <td>2</td>\n",
       "      <td>NaN</td>\n",
       "      <td>NaN</td>\n",
       "      <td>NaN</td>\n",
       "      <td>2</td>\n",
       "      <td>NaN</td>\n",
       "      <td>...</td>\n",
       "      <td>334</td>\n",
       "      <td>37</td>\n",
       "      <td>4</td>\n",
       "      <td>2</td>\n",
       "      <td>280</td>\n",
       "      <td>NaN</td>\n",
       "      <td>NaN</td>\n",
       "      <td>NaN</td>\n",
       "      <td>1</td>\n",
       "      <td>1</td>\n",
       "    </tr>\n",
       "    <tr>\n",
       "      <th>mean</th>\n",
       "      <td>593015.878680</td>\n",
       "      <td>1.0</td>\n",
       "      <td>7.829168e+05</td>\n",
       "      <td>NaN</td>\n",
       "      <td>NaN</td>\n",
       "      <td>NaN</td>\n",
       "      <td>19.188760</td>\n",
       "      <td>1.773688e+04</td>\n",
       "      <td>NaN</td>\n",
       "      <td>7.454473e+04</td>\n",
       "      <td>...</td>\n",
       "      <td>NaN</td>\n",
       "      <td>NaN</td>\n",
       "      <td>NaN</td>\n",
       "      <td>NaN</td>\n",
       "      <td>NaN</td>\n",
       "      <td>4.292600</td>\n",
       "      <td>0.843840</td>\n",
       "      <td>12.38525</td>\n",
       "      <td>NaN</td>\n",
       "      <td>NaN</td>\n",
       "    </tr>\n",
       "    <tr>\n",
       "      <th>std</th>\n",
       "      <td>279991.005059</td>\n",
       "      <td>0.0</td>\n",
       "      <td>1.859575e+06</td>\n",
       "      <td>NaN</td>\n",
       "      <td>NaN</td>\n",
       "      <td>NaN</td>\n",
       "      <td>111.389633</td>\n",
       "      <td>8.253575e+04</td>\n",
       "      <td>NaN</td>\n",
       "      <td>2.486135e+05</td>\n",
       "      <td>...</td>\n",
       "      <td>NaN</td>\n",
       "      <td>NaN</td>\n",
       "      <td>NaN</td>\n",
       "      <td>NaN</td>\n",
       "      <td>NaN</td>\n",
       "      <td>5.100367</td>\n",
       "      <td>1.657621</td>\n",
       "      <td>83.76470</td>\n",
       "      <td>NaN</td>\n",
       "      <td>NaN</td>\n",
       "    </tr>\n",
       "    <tr>\n",
       "      <th>min</th>\n",
       "      <td>6.000000</td>\n",
       "      <td>1.0</td>\n",
       "      <td>2.600000e+01</td>\n",
       "      <td>NaN</td>\n",
       "      <td>NaN</td>\n",
       "      <td>NaN</td>\n",
       "      <td>-7.000000</td>\n",
       "      <td>2.000000e+01</td>\n",
       "      <td>NaN</td>\n",
       "      <td>1.000000e+00</td>\n",
       "      <td>...</td>\n",
       "      <td>NaN</td>\n",
       "      <td>NaN</td>\n",
       "      <td>NaN</td>\n",
       "      <td>NaN</td>\n",
       "      <td>NaN</td>\n",
       "      <td>0.000000</td>\n",
       "      <td>0.000000</td>\n",
       "      <td>0.00000</td>\n",
       "      <td>NaN</td>\n",
       "      <td>NaN</td>\n",
       "    </tr>\n",
       "    <tr>\n",
       "      <th>25%</th>\n",
       "      <td>427688.750000</td>\n",
       "      <td>1.0</td>\n",
       "      <td>4.372950e+05</td>\n",
       "      <td>NaN</td>\n",
       "      <td>NaN</td>\n",
       "      <td>NaN</td>\n",
       "      <td>1.000000</td>\n",
       "      <td>8.340000e+02</td>\n",
       "      <td>NaN</td>\n",
       "      <td>1.138400e+04</td>\n",
       "      <td>...</td>\n",
       "      <td>NaN</td>\n",
       "      <td>NaN</td>\n",
       "      <td>NaN</td>\n",
       "      <td>NaN</td>\n",
       "      <td>NaN</td>\n",
       "      <td>2.000000</td>\n",
       "      <td>0.000000</td>\n",
       "      <td>1.00000</td>\n",
       "      <td>NaN</td>\n",
       "      <td>NaN</td>\n",
       "    </tr>\n",
       "    <tr>\n",
       "      <th>50%</th>\n",
       "      <td>635717.500000</td>\n",
       "      <td>1.0</td>\n",
       "      <td>6.499640e+05</td>\n",
       "      <td>NaN</td>\n",
       "      <td>NaN</td>\n",
       "      <td>NaN</td>\n",
       "      <td>3.000000</td>\n",
       "      <td>2.472000e+03</td>\n",
       "      <td>NaN</td>\n",
       "      <td>3.862900e+04</td>\n",
       "      <td>...</td>\n",
       "      <td>NaN</td>\n",
       "      <td>NaN</td>\n",
       "      <td>NaN</td>\n",
       "      <td>NaN</td>\n",
       "      <td>NaN</td>\n",
       "      <td>3.000000</td>\n",
       "      <td>0.000000</td>\n",
       "      <td>2.00000</td>\n",
       "      <td>NaN</td>\n",
       "      <td>NaN</td>\n",
       "    </tr>\n",
       "    <tr>\n",
       "      <th>75%</th>\n",
       "      <td>826772.250000</td>\n",
       "      <td>1.0</td>\n",
       "      <td>8.504690e+05</td>\n",
       "      <td>NaN</td>\n",
       "      <td>NaN</td>\n",
       "      <td>NaN</td>\n",
       "      <td>8.000000</td>\n",
       "      <td>8.540250e+03</td>\n",
       "      <td>NaN</td>\n",
       "      <td>6.886900e+04</td>\n",
       "      <td>...</td>\n",
       "      <td>NaN</td>\n",
       "      <td>NaN</td>\n",
       "      <td>NaN</td>\n",
       "      <td>NaN</td>\n",
       "      <td>NaN</td>\n",
       "      <td>5.000000</td>\n",
       "      <td>1.000000</td>\n",
       "      <td>6.00000</td>\n",
       "      <td>NaN</td>\n",
       "      <td>NaN</td>\n",
       "    </tr>\n",
       "    <tr>\n",
       "      <th>max</th>\n",
       "      <td>1000000.000000</td>\n",
       "      <td>1.0</td>\n",
       "      <td>5.283797e+07</td>\n",
       "      <td>NaN</td>\n",
       "      <td>NaN</td>\n",
       "      <td>NaN</td>\n",
       "      <td>7677.000000</td>\n",
       "      <td>3.607758e+06</td>\n",
       "      <td>NaN</td>\n",
       "      <td>9.827379e+06</td>\n",
       "      <td>...</td>\n",
       "      <td>NaN</td>\n",
       "      <td>NaN</td>\n",
       "      <td>NaN</td>\n",
       "      <td>NaN</td>\n",
       "      <td>NaN</td>\n",
       "      <td>518.000000</td>\n",
       "      <td>30.000000</td>\n",
       "      <td>7071.00000</td>\n",
       "      <td>NaN</td>\n",
       "      <td>NaN</td>\n",
       "    </tr>\n",
       "  </tbody>\n",
       "</table>\n",
       "<p>11 rows × 22 columns</p>\n",
       "</div>"
      ],
      "text/plain": [
       "                    Id  PostTypeId  AcceptedAnswerId  ParentId  \\\n",
       "count     50000.000000     50000.0      3.719700e+04       0.0   \n",
       "unique             NaN         NaN               NaN       NaN   \n",
       "top                NaN         NaN               NaN       NaN   \n",
       "freq               NaN         NaN               NaN       NaN   \n",
       "mean     593015.878680         1.0      7.829168e+05       NaN   \n",
       "std      279991.005059         0.0      1.859575e+06       NaN   \n",
       "min           6.000000         1.0      2.600000e+01       NaN   \n",
       "25%      427688.750000         1.0      4.372950e+05       NaN   \n",
       "50%      635717.500000         1.0      6.499640e+05       NaN   \n",
       "75%      826772.250000         1.0      8.504690e+05       NaN   \n",
       "max     1000000.000000         1.0      5.283797e+07       NaN   \n",
       "\n",
       "               CreationDate  DeletionDate         Score     ViewCount  \\\n",
       "count                 50000           0.0  50000.000000  5.000000e+04   \n",
       "unique                49913           NaN           NaN           NaN   \n",
       "top     2009-05-15 20:59:05           NaN           NaN           NaN   \n",
       "freq                      2           NaN           NaN           NaN   \n",
       "mean                    NaN           NaN     19.188760  1.773688e+04   \n",
       "std                     NaN           NaN    111.389633  8.253575e+04   \n",
       "min                     NaN           NaN     -7.000000  2.000000e+01   \n",
       "25%                     NaN           NaN      1.000000  8.340000e+02   \n",
       "50%                     NaN           NaN      3.000000  2.472000e+03   \n",
       "75%                     NaN           NaN      8.000000  8.540250e+03   \n",
       "max                     NaN           NaN   7677.000000  3.607758e+06   \n",
       "\n",
       "                                                     Body   OwnerUserId  \\\n",
       "count                                               50000  4.404500e+04   \n",
       "unique                                              49998           NaN   \n",
       "top     <p>Anyone have any idea? And any open source s...           NaN   \n",
       "freq                                                    2           NaN   \n",
       "mean                                                  NaN  7.454473e+04   \n",
       "std                                                   NaN  2.486135e+05   \n",
       "min                                                   NaN  1.000000e+00   \n",
       "25%                                                   NaN  1.138400e+04   \n",
       "50%                                                   NaN  3.862900e+04   \n",
       "75%                                                   NaN  6.886900e+04   \n",
       "max                                                   NaN  9.827379e+06   \n",
       "\n",
       "               ...          LastEditorDisplayName         LastEditDate  \\\n",
       "count          ...                          15172                32440   \n",
       "unique         ...                           5085                31229   \n",
       "top            ...                         Rich B  2017-05-23 12:26:44   \n",
       "freq           ...                            334                   37   \n",
       "mean           ...                            NaN                  NaN   \n",
       "std            ...                            NaN                  NaN   \n",
       "min            ...                            NaN                  NaN   \n",
       "25%            ...                            NaN                  NaN   \n",
       "50%            ...                            NaN                  NaN   \n",
       "75%            ...                            NaN                  NaN   \n",
       "max            ...                            NaN                  NaN   \n",
       "\n",
       "           LastActivityDate                              Title   Tags  \\\n",
       "count                 50000                              50000  50000   \n",
       "unique                49948                              49994  37212   \n",
       "top     2014-08-30 21:07:01  select random file from directory   <c#>   \n",
       "freq                      4                                  2    280   \n",
       "mean                    NaN                                NaN    NaN   \n",
       "std                     NaN                                NaN    NaN   \n",
       "min                     NaN                                NaN    NaN   \n",
       "25%                     NaN                                NaN    NaN   \n",
       "50%                     NaN                                NaN    NaN   \n",
       "75%                     NaN                                NaN    NaN   \n",
       "max                     NaN                                NaN    NaN   \n",
       "\n",
       "         AnswerCount  CommentCount  FavoriteCount           ClosedDate  \\\n",
       "count   50000.000000  50000.000000    29342.00000                 2972   \n",
       "unique           NaN           NaN            NaN                 2972   \n",
       "top              NaN           NaN            NaN  2012-07-13 09:19:47   \n",
       "freq             NaN           NaN            NaN                    1   \n",
       "mean        4.292600      0.843840       12.38525                  NaN   \n",
       "std         5.100367      1.657621       83.76470                  NaN   \n",
       "min         0.000000      0.000000        0.00000                  NaN   \n",
       "25%         2.000000      0.000000        1.00000                  NaN   \n",
       "50%         3.000000      0.000000        2.00000                  NaN   \n",
       "75%         5.000000      1.000000        6.00000                  NaN   \n",
       "max       518.000000     30.000000     7071.00000                  NaN   \n",
       "\n",
       "         CommunityOwnedDate  \n",
       "count                   973  \n",
       "unique                  973  \n",
       "top     2010-02-04 22:53:25  \n",
       "freq                      1  \n",
       "mean                    NaN  \n",
       "std                     NaN  \n",
       "min                     NaN  \n",
       "25%                     NaN  \n",
       "50%                     NaN  \n",
       "75%                     NaN  \n",
       "max                     NaN  \n",
       "\n",
       "[11 rows x 22 columns]"
      ]
     },
     "execution_count": 51,
     "metadata": {},
     "output_type": "execute_result"
    }
   ],
   "source": [
    "df_raw.describe(include = \"all\")"
   ]
  },
  {
   "cell_type": "markdown",
   "metadata": {},
   "source": [
    "On ne conserve que ce qui nous intéresse, à savoir les features 'Title', 'Tags','Body'"
   ]
  },
  {
   "cell_type": "code",
   "execution_count": 52,
   "metadata": {},
   "outputs": [],
   "source": [
    "df_raw = df_raw.loc[:, ['Title', 'Tags','Body']]"
   ]
  },
  {
   "cell_type": "code",
   "execution_count": 53,
   "metadata": {},
   "outputs": [
    {
     "data": {
      "text/html": [
       "<div>\n",
       "<style scoped>\n",
       "    .dataframe tbody tr th:only-of-type {\n",
       "        vertical-align: middle;\n",
       "    }\n",
       "\n",
       "    .dataframe tbody tr th {\n",
       "        vertical-align: top;\n",
       "    }\n",
       "\n",
       "    .dataframe thead th {\n",
       "        text-align: right;\n",
       "    }\n",
       "</style>\n",
       "<table border=\"1\" class=\"dataframe\">\n",
       "  <thead>\n",
       "    <tr style=\"text-align: right;\">\n",
       "      <th></th>\n",
       "      <th>Title</th>\n",
       "      <th>Tags</th>\n",
       "      <th>Body</th>\n",
       "    </tr>\n",
       "  </thead>\n",
       "  <tbody>\n",
       "    <tr>\n",
       "      <th>column type</th>\n",
       "      <td>object</td>\n",
       "      <td>object</td>\n",
       "      <td>object</td>\n",
       "    </tr>\n",
       "    <tr>\n",
       "      <th>null values (nb)</th>\n",
       "      <td>0</td>\n",
       "      <td>0</td>\n",
       "      <td>0</td>\n",
       "    </tr>\n",
       "    <tr>\n",
       "      <th>null values (%)</th>\n",
       "      <td>0</td>\n",
       "      <td>0</td>\n",
       "      <td>0</td>\n",
       "    </tr>\n",
       "  </tbody>\n",
       "</table>\n",
       "</div>"
      ],
      "text/plain": [
       "                   Title    Tags    Body\n",
       "column type       object  object  object\n",
       "null values (nb)       0       0       0\n",
       "null values (%)        0       0       0"
      ]
     },
     "metadata": {},
     "output_type": "display_data"
    }
   ],
   "source": [
    "#Infos sur la dataframe\n",
    "df_info=pd.DataFrame(df_raw.dtypes).T.rename(index={0:'column type'})\n",
    "df_info=df_info.append(pd.DataFrame(df_raw.isnull().sum()).T.rename(index={0:'null values (nb)'}))\n",
    "df_info=df_info.append(pd.DataFrame(df_raw.isnull().sum()/df_raw.shape[0]*100).T.\n",
    "                         rename(index={0:'null values (%)'}))\n",
    "display(df_info)"
   ]
  },
  {
   "cell_type": "code",
   "execution_count": 54,
   "metadata": {},
   "outputs": [
    {
     "data": {
      "text/html": [
       "<div>\n",
       "<style scoped>\n",
       "    .dataframe tbody tr th:only-of-type {\n",
       "        vertical-align: middle;\n",
       "    }\n",
       "\n",
       "    .dataframe tbody tr th {\n",
       "        vertical-align: top;\n",
       "    }\n",
       "\n",
       "    .dataframe thead th {\n",
       "        text-align: right;\n",
       "    }\n",
       "</style>\n",
       "<table border=\"1\" class=\"dataframe\">\n",
       "  <thead>\n",
       "    <tr style=\"text-align: right;\">\n",
       "      <th></th>\n",
       "      <th>Title</th>\n",
       "      <th>Tags</th>\n",
       "      <th>Body</th>\n",
       "    </tr>\n",
       "  </thead>\n",
       "  <tbody>\n",
       "    <tr>\n",
       "      <th>13086</th>\n",
       "      <td>PowerBuilder database connection pool? How-to</td>\n",
       "      <td>&lt;database&gt;&lt;connection-pooling&gt;&lt;powerbuilder&gt;</td>\n",
       "      <td>&lt;p&gt;How to make database connection pool in Pow...</td>\n",
       "    </tr>\n",
       "    <tr>\n",
       "      <th>94879</th>\n",
       "      <td>List all DLL's implementing a specific interfa...</td>\n",
       "      <td>&lt;c#&gt;&lt;plugins&gt;&lt;gac&gt;</td>\n",
       "      <td>&lt;p&gt;Aloha&lt;/p&gt;\\n\\n&lt;p&gt;Given a plug-in architectur...</td>\n",
       "    </tr>\n",
       "    <tr>\n",
       "      <th>95106</th>\n",
       "      <td>Do all developers consider monitor quality (co...</td>\n",
       "      <td>&lt;colors&gt;&lt;development-environment&gt;</td>\n",
       "      <td>&lt;p&gt;I especially hear it from those advocates o...</td>\n",
       "    </tr>\n",
       "    <tr>\n",
       "      <th>63463</th>\n",
       "      <td>Only OnConnection fires in Visual Studio add-in</td>\n",
       "      <td>&lt;visual-studio&gt;&lt;visual-studio-2008&gt;</td>\n",
       "      <td>&lt;p&gt;I'm busy with a small, simple add-in, but t...</td>\n",
       "    </tr>\n",
       "    <tr>\n",
       "      <th>23730</th>\n",
       "      <td>How to cache images in memory on the web serve...</td>\n",
       "      <td>&lt;asp.net&gt;&lt;asp.net-mvc&gt;&lt;caching&gt;</td>\n",
       "      <td>&lt;p&gt;I am working on a web application with many...</td>\n",
       "    </tr>\n",
       "  </tbody>\n",
       "</table>\n",
       "</div>"
      ],
      "text/plain": [
       "                                                   Title  \\\n",
       "13086      PowerBuilder database connection pool? How-to   \n",
       "94879  List all DLL's implementing a specific interfa...   \n",
       "95106  Do all developers consider monitor quality (co...   \n",
       "63463    Only OnConnection fires in Visual Studio add-in   \n",
       "23730  How to cache images in memory on the web serve...   \n",
       "\n",
       "                                               Tags  \\\n",
       "13086  <database><connection-pooling><powerbuilder>   \n",
       "94879                            <c#><plugins><gac>   \n",
       "95106             <colors><development-environment>   \n",
       "63463           <visual-studio><visual-studio-2008>   \n",
       "23730               <asp.net><asp.net-mvc><caching>   \n",
       "\n",
       "                                                    Body  \n",
       "13086  <p>How to make database connection pool in Pow...  \n",
       "94879  <p>Aloha</p>\\n\\n<p>Given a plug-in architectur...  \n",
       "95106  <p>I especially hear it from those advocates o...  \n",
       "63463  <p>I'm busy with a small, simple add-in, but t...  \n",
       "23730  <p>I am working on a web application with many...  "
      ]
     },
     "execution_count": 54,
     "metadata": {},
     "output_type": "execute_result"
    }
   ],
   "source": [
    "df_raw.head()"
   ]
  },
  {
   "cell_type": "markdown",
   "metadata": {},
   "source": [
    "### Traitement des TAGS Manquants"
   ]
  },
  {
   "cell_type": "code",
   "execution_count": 55,
   "metadata": {},
   "outputs": [
    {
     "name": "stdout",
     "output_type": "stream",
     "text": [
      "Dataframe dimensions: (50000, 3)\n"
     ]
    }
   ],
   "source": [
    "# Retrait des lignes sans Tags\n",
    "df_raw = df_raw.dropna(subset=['Tags'])\n",
    "print('Dataframe dimensions:', df_raw.shape)"
   ]
  },
  {
   "cell_type": "markdown",
   "metadata": {},
   "source": [
    "### Traitement des doublons"
   ]
  },
  {
   "cell_type": "code",
   "execution_count": 56,
   "metadata": {},
   "outputs": [
    {
     "name": "stdout",
     "output_type": "stream",
     "text": [
      "Entrées en double: 2\n",
      "Dataframe dimensions: (49998, 3)\n"
     ]
    }
   ],
   "source": [
    "#Suppression des doublons\n",
    "print('Entrées en double: {}'.format(df_raw.duplicated(subset=[\"Body\"]).sum()))\n",
    "df_raw.drop_duplicates(subset=[\"Body\"],inplace = True)\n",
    "print('Dataframe dimensions:', df_raw.shape)"
   ]
  },
  {
   "cell_type": "markdown",
   "metadata": {},
   "source": [
    "## Fonctions liées au pré-traitement des données"
   ]
  },
  {
   "cell_type": "code",
   "execution_count": 57,
   "metadata": {
    "code_folding": []
   },
   "outputs": [],
   "source": [
    "def get_stop_words(stop_file_path):\n",
    "    \"\"\"Chargement du fichier de stopwords \"\"\"\n",
    "    \n",
    "    with open(stop_file_path, 'r', encoding=\"utf-8\") as f:\n",
    "        stopwords = f.readlines()\n",
    "        stop_set = set(m.strip() for m in stopwords)\n",
    "        return frozenset(stop_set)\n",
    " \n"
   ]
  },
  {
   "cell_type": "code",
   "execution_count": 58,
   "metadata": {
    "code_folding": []
   },
   "outputs": [],
   "source": [
    "def count_tags(data):\n",
    "    \"\"\" Fonction qui permet de compter les différents tags, de les classer et de donner le pourcentage\n",
    "    \"\"\"\n",
    "    count_df = pd.Series(data.loc[:, question_tags_featured].squeeze().values.reshape(-1)).value_counts()\n",
    "    ct_df = pd.DataFrame({'Tag': count_df.index,\n",
    "                                  'Count': count_df.values,\n",
    "                                  'Pourcentage (%)': (100 * (count_df / count_df.sum())).values})\n",
    "    return ct_df"
   ]
  },
  {
   "cell_type": "code",
   "execution_count": 59,
   "metadata": {
    "code_folding": []
   },
   "outputs": [],
   "source": [
    "def get_wordnet_pos(word):\n",
    "    \"\"\"Map POS tag\"\"\"\n",
    "    # On chosit la première lettre\n",
    "    tag = nltk.pos_tag([word])[0][1][0].upper()\n",
    "    # Creation d'un dictionnaire\n",
    "    tag_dict = {\"J\": wordnet.ADJ,\n",
    "                \"N\": wordnet.NOUN,\n",
    "                \"V\": wordnet.VERB,\n",
    "                \"R\": wordnet.ADV}\n",
    "    # Return relevant tag otherwise Noun\n",
    "    return tag_dict.get(tag, wordnet.NOUN)"
   ]
  },
  {
   "cell_type": "code",
   "execution_count": 60,
   "metadata": {
    "code_folding": []
   },
   "outputs": [],
   "source": [
    "def text_processing(raw_text):\n",
    "    \"\"\"\n",
    "    Fonction qui permet de convertir un texte brut en une chaîne de caractères\n",
    "    En entrée nous avons une chaîne brute et en sortie une seule chaîne.\n",
    "    \"\"\"\n",
    "    # 1. Nettoyer HTML\n",
    "    striped_text = BeautifulSoup(raw_text, \"lxml\").get_text() \n",
    "\n",
    "    # 2. Nettoyer ce qui n'est pas une lettre\n",
    "    letters_numbers_only = re.sub(\"[^a-zA-Z#+]\", \" \", striped_text) \n",
    "\n",
    "    # 3. On change en minuscule les caractères\n",
    "    words = letters_numbers_only.lower()\n",
    "    \n",
    "    return(' '.join(words.split()))\n"
   ]
  },
  {
   "cell_type": "code",
   "execution_count": 61,
   "metadata": {
    "code_folding": []
   },
   "outputs": [],
   "source": [
    "def text_processing_stop_words(raw_text):\n",
    "    \"\"\"\n",
    "    Fonction qui permet de convertir un texte brut en une chaîne de caractères\n",
    "    En entrée nous avons une chaîne brute et en sortie une seule chaîne. Nous utilisons les stopwords.\n",
    "    \"\"\"\n",
    "    # 1. Nettoyer HTML\n",
    "    striped_text = BeautifulSoup(raw_text, \"lxml\").get_text() \n",
    "\n",
    "    # 2. Retirer ce qui n'est pas une lettre alphabétique      \n",
    "    letters_numbers_only = re.sub(\"[^a-zA-Z#+]\", \" \", striped_text) \n",
    "\n",
    "    # 3. Conversion en minuscule et découpage\n",
    "    words = letters_numbers_only.lower().split()\n",
    "    \n",
    "    # 4. Chargement des stopwords\n",
    "    stops = get_stop_words(parent_path + \"\\\\resources\\\\stopwords.txt\")\n",
    "\n",
    "    # 5. Retrait des stopwords\n",
    "    meaningful_words = [w for w in words if not w in stops]  \n",
    "    \n",
    "    return meaningful_words"
   ]
  },
  {
   "cell_type": "code",
   "execution_count": 62,
   "metadata": {
    "code_folding": []
   },
   "outputs": [],
   "source": [
    "def text_processing_advanced(raw_body):\n",
    "    \"\"\"\n",
    "    Fonction avancée qui permet de convertir un texte brut en une chaîne de caractères\n",
    "    En entrée nous avons une chaîne brute et en sortie une seule chaîne. Nous utilisons les stopwords et lemmatisation.\n",
    "    \"\"\"\n",
    "    # 1. Nettoyer HTML\n",
    "    body_text = BeautifulSoup(raw_body, \"lxml\").get_text() \n",
    "\n",
    "    # 2. Retirer ce qui n'est pas une lettre alphabétique       \n",
    "    letters_numbers_only = re.sub(\"[^a-zA-Z#+]\", \" \", body_text) \n",
    "\n",
    "    # 3. Conversion en minuscule et découpage\n",
    "    words = letters_numbers_only.lower().split()                             \n",
    "\n",
    "    # 4. Chargement des stopwords\n",
    "#     stops = set(stopwords.words(\"english\"))\n",
    "    stops = get_stop_words(parent_path + \"\\\\resources\\\\stopwords.txt\")\n",
    "\n",
    "    # 5. Retrait des stop words\n",
    "    meaningful_words = [w for w in words if not w in stops]   \n",
    "\n",
    "    # 6. Lemmatisation des mots\n",
    "    lemmatizer = WordNetLemmatizer()\n",
    "    lemmatize_meaningful_words = [lemmatizer.lemmatize(w, get_wordnet_pos(w)) for w in meaningful_words]\n",
    "    \n",
    "    return (\" \".join( lemmatize_meaningful_words)) "
   ]
  },
  {
   "cell_type": "code",
   "execution_count": 63,
   "metadata": {
    "code_folding": []
   },
   "outputs": [],
   "source": [
    "def data_preprocessing(data):\n",
    "    \"\"\"\n",
    "    Fonction qui permet de traiter en entrée une dataframe avec nos documents texte et d'obtenir en sortie\n",
    "    un vecteur de données après nettoyage des données au préalable.\n",
    "    \"\"\"  \n",
    "    # Concaténation\n",
    "    data[\"Body_Title\"] = data[\"Title\"] + \" \" + data[\"Body\"]\n",
    "    \n",
    "    #Chargement des stop words\n",
    "    stops = get_stop_words(parent_path + \"\\\\resources\\\\stopwords.txt\")\n",
    "\n",
    "    #On concatène les colonnes \"Body\" et \"Title\" qui contiennent toutes les deux des informations importantes.\n",
    "    data[\"Body_Title\"] = data[\"Title\"] + \" \" + data[\"Body\"]\n",
    "\n",
    "    # Traitement sur Body_Title\n",
    "    print(\"Nettoyage Body_Title\")\n",
    "    bodytitle_words_clean = pd.DataFrame(columns=['body_title_words'])\n",
    "    \n",
    "    # On effectue un text_processing à \"Body_Title\"\n",
    "    bodytitle_words_clean['body_title_words'] = data.Body_Title.apply(text_processing)\n",
    "\n",
    "    # Implémentation du Vectorizer pour créer nos bag of words\n",
    "    vectorizer = TfidfVectorizer(min_df=20,analyzer=\"word\", tokenizer=None, preprocessor=None, stop_words=stops, binary=False,max_features=10000) \n",
    "\n",
    "    print(\"Vectorisation de Body_Title en bag of words en cours\")\n",
    "    bodytitle_words_features = vectorizer.fit_transform(bodytitle_words_clean.body_title_words)\n",
    "    \n",
    "    print(\"Vectorisation de Body_Title effectuée\")\n",
    "    print(\"Taille suite à vectorisation de Body_Title {}\".format(bodytitle_words_features.shape))\n",
    "    print(\"Fin du data preprocessing\")\n",
    "    \n",
    "    return bodytitle_words_features, vectorizer"
   ]
  },
  {
   "cell_type": "code",
   "execution_count": 64,
   "metadata": {
    "code_folding": []
   },
   "outputs": [],
   "source": [
    "def data_preprocessing_test(data,vectorizer):\n",
    "    \"\"\"\n",
    "    Fonction qui permet de traiter en entrée une dataframe avec nos documents texte et d'obtenir en sortie\n",
    "    un vecteur de données après nettoyage des données au préalable.\n",
    "    \"\"\"  \n",
    "    # Concaténation des colonnes Body et Title pour n'en fomer qu'une\n",
    "    data[\"Body_Title\"] = data[\"Title\"] + \" \" + data[\"Body\"]\n",
    "    \n",
    "    # Chargement des stop words\n",
    "    stops = get_stop_words(parent_path + \"\\\\resources\\\\stopwords.txt\")\n",
    "\n",
    "    #On concatène les colonnes \"Body\" et \"Title\" qui contiennent toutes les deux des informations importantes.\n",
    "    data[\"Body_Title\"] = data[\"Title\"] + \" \" + data[\"Body\"]\n",
    "\n",
    "    # Traitement sur Body_Title\n",
    "    print(\"Nettoyage Body_Title\")\n",
    "    bodytitle_words_clean = pd.DataFrame(columns=['body_title_words'])\n",
    "    \n",
    "    # On effectue un text_processing à \"Body_Title\"\n",
    "    bodytitle_words_clean['body_title_words'] = data.Body_Title.apply(text_processing)\n",
    "\n",
    "   \n",
    "    print(\"Vectorisation de Body_Title en bag of words en cours\")\n",
    "    bodytitle_words_features_test = vectorizer.transform(bodytitle_words_clean.body_title_words)\n",
    "    print(\"Vectorisation de Body_Title effectuée\")\n",
    "    print(\"Taille suite à vectorisation de Body_Title {}\".format(bodytitle_words_features_test.shape))\n",
    "    print(\"Fin du data preprocessing\")\n",
    "    return bodytitle_words_features_test"
   ]
  },
  {
   "cell_type": "code",
   "execution_count": 65,
   "metadata": {
    "code_folding": []
   },
   "outputs": [],
   "source": [
    "def ml_create_target_df(selected_tags,data_set):\n",
    "    \"\"\"\n",
    "        Création de notre matrice cible à partir de notre jeu de tags qui contient\n",
    "        les tags propres à chaque question posée\n",
    "    \"\"\"\n",
    "    print(\" La dataframe cible contient {} tags...Traitement en cours\".format(selected_tags.shape[0]))\n",
    "    # Création de numpy array\n",
    "    temp_array = np.zeros((data_set.shape[0], selected_tags.shape[0]))\n",
    "    # Boucle sur tags\n",
    "    for i, tag in zip(range(temp_array.shape[1]), selected_tags.values):\n",
    "        temp_array[:, i] = np.sum(data_set.loc[:, question_tags_featured] == tag, axis=1)\n",
    "\n",
    "    # On limite notre tableau aux valeurs 0 ou 1\n",
    "    temp_array[temp_array > 1] = 1\n",
    "    \n",
    "    # Conversion en pandas dataframe\n",
    "    ml_target_df = pd.DataFrame(temp_array, columns=selected_tags, dtype='int64')\n",
    "    \n",
    "#     # On supprime les lignes qui ne contienent que des zéros\n",
    "    print(\"Traitement terminé\")\n",
    "    return ml_target_df"
   ]
  },
  {
   "cell_type": "markdown",
   "metadata": {},
   "source": [
    "# Exploration des données, analyses et tests"
   ]
  },
  {
   "cell_type": "markdown",
   "metadata": {},
   "source": [
    "## Exemple de Nettoyage de texte"
   ]
  },
  {
   "cell_type": "markdown",
   "metadata": {},
   "source": [
    "Regardons de plus près ce qui se passe lorsque l'on applique le nettoyage de texte sur un échantillon"
   ]
  },
  {
   "cell_type": "code",
   "execution_count": 66,
   "metadata": {},
   "outputs": [
    {
     "name": "stdout",
     "output_type": "stream",
     "text": [
      "*********** Texte brut\n"
     ]
    },
    {
     "data": {
      "text/plain": [
       "'<p>I trid to use an upload plugin for jQuery.\\n<a href=\"http://valums.com/ajax-upload/\" rel=\"nofollow noreferrer\">http://valums.com/ajax-upload/</a></p>\\n\\n<p>When I set the returning respond type to json, firefox will popup a dialog asking how I like to handle the returning json object.</p>\\n\\n<p>People have asked the same question at the upload script\\'s author\\'s page but no answer so far. Hopefully javascript guys here can figure out how we can handle this.</p>\\n\\n<p>Thanks.</p>\\n\\n<pre><code>&lt;script type= \"text/javascript\"&gt;\\n      /*&lt;![CDATA[*/\\n        $(document).ready(function(){\\n\\n            /* example 1 */\\n            var button = $(\\'#button1\\'), interval;\\n            new AjaxUpload(button, {\\n                //action: \\'upload-test.php\\', // I disabled uploads in this example for security reasons\\n                action: \\'/posts/upload_images/\\', \\n                name: \\'myfile\\',\\n                responseType: \\'json\\',\\n                onSubmit : function(file, ext){\\n                    // change button text, when user selects file           \\n                    button.text(\\'Uploading\\');\\n\\n                    // If you want to allow uploading only 1 file at time,\\n                    // you can disable upload button\\n                    this.disable();\\n\\n                    // Uploding -&gt; Uploading. -&gt; Uploading...\\n                    interval = window.setInterval(function(){\\n                        var text = button.text();\\n                        if (text.length &lt; 13){\\n                            button.text(text + \\'.\\');                    \\n                        } else {\\n                            button.text(\\'Uploading\\');               \\n                        }\\n                    }, 200);\\n                },\\n                onComplete: function(file, response){\\n                    var json = response;\\n                    alert(json);\\n                    button.text(\\'Upload\\');\\n\\n                    window.clearInterval(interval);\\n\\n                    // enable upload button\\n                    this.enable();\\n\\n                    // add file to the list\\n//                    $(\\'&lt;li&gt;&lt;/li&gt;\\').appendTo(\\'#example1 .files\\').text(json.response_text);                     \\n                    $(\\'&lt;li&gt;&lt;/li&gt;\\').appendTo(\\'#example1 .files\\').text(file);                     \\n                }\\n            });\\n        });\\n    /*]]&gt;*/\\n&lt;/script&gt;\\n</code></pre>\\n'"
      ]
     },
     "metadata": {},
     "output_type": "display_data"
    },
    {
     "name": "stdout",
     "output_type": "stream",
     "text": [
      "*********** Sans lemmatisation\n"
     ]
    },
    {
     "data": {
      "text/plain": [
       "'i trid to use an upload plugin for jquery http valums com ajax upload when i set the returning respond type to json firefox will popup a dialog asking how i like to handle the returning json object people have asked the same question at the upload script s author s page but no answer so far hopefully javascript guys here can figure out how we can handle this thanks script type text javascript cdata document ready function example var button #button interval new ajaxupload button action upload test php i disabled uploads in this example for security reasons action posts upload images name myfile responsetype json onsubmit function file ext change button text when user selects file button text uploading if you want to allow uploading only file at time you can disable upload button this disable uploding uploading uploading interval window setinterval function var text button text if text length button text text + else button text uploading oncomplete function file response var json response alert json button text upload window clearinterval interval enable upload button this enable add file to the list li li appendto #example files text json response text li li appendto #example files text file script'"
      ]
     },
     "metadata": {},
     "output_type": "display_data"
    },
    {
     "name": "stdout",
     "output_type": "stream",
     "text": [
      "************ Avec lemmatisation\n"
     ]
    },
    {
     "data": {
      "text/plain": [
       "'trid upload plugin jquery valums com ajax upload return json firefox popup dialog ask return json ask upload javascript guy javascript cdata var #button ajaxupload upload php uploads reason post upload image myfile responsetype json onsubmit ext selects upload upload disable upload disable uploding upload upload window setinterval var + upload oncomplete var json alert json upload window clearinterval upload appendto #example json appendto #example'"
      ]
     },
     "metadata": {},
     "output_type": "display_data"
    }
   ],
   "source": [
    "N_test=250\n",
    "print(\"*********** Texte brut\")\n",
    "display(df_raw[\"Body\"].iloc[N_test])\n",
    "print(\"*********** Sans lemmatisation\")\n",
    "display(text_processing(df_raw[\"Body\"].iloc[N_test]))\n",
    "print(\"************ Avec lemmatisation\")\n",
    "display(text_processing_advanced(df_raw[\"Body\"].iloc[N_test]))"
   ]
  },
  {
   "cell_type": "markdown",
   "metadata": {},
   "source": [
    "## Visualisation du nombre de mots sur features Body_Title \n",
    "Cherchons à visualiser le mots les plus fréquents sans traitement TF-IDF et avec traitement TF-IDFµ."
   ]
  },
  {
   "cell_type": "markdown",
   "metadata": {},
   "source": [
    "### Sans traitement TF_IDF\n",
    " On concatène les colonnes \"Body\" et \"Title\" qui contiennent toutes les deux des informations importantes."
   ]
  },
  {
   "cell_type": "code",
   "execution_count": 67,
   "metadata": {},
   "outputs": [],
   "source": [
    "df_raw[\"Body_Title\"] = df_raw[\"Title\"] + \" \" + df_raw[\"Body\"]"
   ]
  },
  {
   "cell_type": "code",
   "execution_count": 68,
   "metadata": {
    "scrolled": true
   },
   "outputs": [],
   "source": [
    "# Nettoyage en utilisant les stop words\n",
    "bodytitle_clean_serie = df_raw.loc[:, 'Body_Title'].apply(text_processing_stop_words)\n",
    "Body_Title_clean_df = pd.DataFrame(bodytitle_clean_serie)\n",
    "\n",
    "one_bodytitle_list = [item for sublist in Body_Title_clean_df.Body_Title.ravel() for item in sublist]\n",
    "bodytitle_words_clean = pd.Series(one_bodytitle_list)\n",
    "bodytitlecounts = bodytitle_words_clean.value_counts()"
   ]
  },
  {
   "cell_type": "code",
   "execution_count": 69,
   "metadata": {},
   "outputs": [
    {
     "data": {
      "image/png": "[encoded data removed]",
      "text/plain": [
       "<Figure size 720x720 with 1 Axes>"
      ]
     },
     "metadata": {
      "needs_background": "light"
     },
     "output_type": "display_data"
    }
   ],
   "source": [
    "# Affichage\n",
    "fig, ax = plt.subplots(figsize=(10, 10))\n",
    "sns.barplot(y=bodytitlecounts[:50].index.values, x=bodytitlecounts[:50].values, orient='h')\n",
    "ax.set_ylabel(\"Mots les plus représentés\", fontsize=14)\n",
    "ax.set_xlabel(\"Nombre d'occurences\", fontsize=14)\n",
    "ax.set_title(\"TOP 50 des Mots les plus représentés dans Body_Title\", fontsize=16,weight=\"bold\");\n"
   ]
  },
  {
   "cell_type": "markdown",
   "metadata": {},
   "source": [
    "### Avec traitement TF_IDF"
   ]
  },
  {
   "cell_type": "code",
   "execution_count": 70,
   "metadata": {
    "code_folding": []
   },
   "outputs": [],
   "source": [
    "def top_tfidf_feats(row, features, top_n=25):\n",
    "    topn_ids = np.argsort(row)[::-1][:top_n]\n",
    "    top_feats = [(features[i], row[i]) for i in topn_ids]\n",
    "    df = pd.DataFrame(top_feats)\n",
    "    df.columns = ['feature', 'tfidf']\n",
    "    return df"
   ]
  },
  {
   "cell_type": "code",
   "execution_count": 71,
   "metadata": {
    "code_folding": []
   },
   "outputs": [],
   "source": [
    "def top_feats_in_doc(Xtr, features, row_id, top_n=25):\n",
    "    ''' Top tfidf features in specific document (matrix row) '''\n",
    "    row = np.squeeze(Xtr[row_id].toarray())\n",
    "    return top_tfidf_feats(row, features, top_n)"
   ]
  },
  {
   "cell_type": "code",
   "execution_count": 72,
   "metadata": {
    "code_folding": []
   },
   "outputs": [],
   "source": [
    "def top_mean_feats(Xtr, features, min_tfidf=0, top_n=25):\n",
    "    ''' Return the top n features that on average are most important amongst documents in rows\n",
    "        indentified. '''\n",
    "    D = Xtr.toarray()\n",
    "    D[D < min_tfidf] = 0\n",
    "    tfidf_means = np.mean(D, axis=0)\n",
    "    return top_tfidf_feats(tfidf_means, features, top_n)"
   ]
  },
  {
   "cell_type": "code",
   "execution_count": 73,
   "metadata": {
    "scrolled": false
   },
   "outputs": [
    {
     "name": "stdout",
     "output_type": "stream",
     "text": [
      "Nettoyage Body_Title\n",
      "Chargement des stop words\n",
      "Vectorisation de Body_Title avec transformation TF_IDF\n"
     ]
    }
   ],
   "source": [
    "# Traitement sur Body_Title\n",
    "print(\"Nettoyage Body_Title\")\n",
    "print(\"Chargement des stop words\")\n",
    "stops = get_stop_words(parent_path + \"\\\\resources\\\\stopwords.txt\")\n",
    "bodytitle_words_clean = pd.DataFrame(columns=['body_title_words'])\n",
    "\n",
    "# On effectue un text_processing à \"Body_Title\"\n",
    "bodytitle_words_clean['body_title_words'] = df_raw.Body_Title.apply(text_processing)\n",
    "\n",
    "# Implémentation du Vectorizer pour créer nos bag of words\n",
    "vectorizer = TfidfVectorizer(min_df=20,analyzer=\"word\", tokenizer=None, preprocessor=None, stop_words=stops, binary=False,max_features=10000) \n",
    "\n",
    "print(\"Vectorisation de Body_Title avec transformation TF_IDF\")\n",
    "bodytitle_words = vectorizer.fit_transform(bodytitle_words_clean.body_title_words)\n"
   ]
  },
  {
   "cell_type": "code",
   "execution_count": 74,
   "metadata": {},
   "outputs": [],
   "source": [
    "# On extrait le top 50 des mots du TF IDF\n",
    "top_tfidf = top_mean_feats(bodytitle_words, vectorizer.get_feature_names(),top_n=50)"
   ]
  },
  {
   "cell_type": "code",
   "execution_count": 75,
   "metadata": {},
   "outputs": [
    {
     "data": {
      "image/png": "[encoded data removed]",
      "text/plain": [
       "<Figure size 720x720 with 1 Axes>"
      ]
     },
     "metadata": {
      "needs_background": "light"
     },
     "output_type": "display_data"
    }
   ],
   "source": [
    "# On représente le diagramme bâton du top 50\n",
    "fig, ax = plt.subplots(figsize=(10, 10))\n",
    "top_tfidf = top_mean_feats(bodytitle_words, vectorizer.get_feature_names(),top_n=50)\n",
    "sns.barplot(y=top_tfidf[\"feature\"], x=top_tfidf[\"tfidf\"], orient='h')\n",
    "ax.set_title(\"TOP 50 moyennes TFIDF des Tags\", fontsize=16, weight=\"bold\");\n",
    "ax.set_ylabel(\"Mots les plus représentés\", fontsize=14)\n",
    "ax.set_xlabel(\"Nombre d'occurences\", fontsize=14);"
   ]
  },
  {
   "cell_type": "code",
   "execution_count": 76,
   "metadata": {},
   "outputs": [
    {
     "data": {
      "text/plain": [
       "(49998, 5218)"
      ]
     },
     "execution_count": 76,
     "metadata": {},
     "output_type": "execute_result"
    }
   ],
   "source": [
    "# Taille de notre matrice \n",
    "bodytitle_words.shape"
   ]
  },
  {
   "cell_type": "markdown",
   "metadata": {},
   "source": [
    "### Exemple de traitement sur TF_IDF un exemple de texte\n",
    "Regardons maintenant un traitement TF-IDF sur un texte d'exemple et regardons de plus près les scores calculés."
   ]
  },
  {
   "cell_type": "code",
   "execution_count": 77,
   "metadata": {
    "scrolled": false
   },
   "outputs": [
    {
     "name": "stdout",
     "output_type": "stream",
     "text": [
      "\n",
      "=====Body_Title=====\n"
     ]
    },
    {
     "data": {
      "text/plain": [
       "'Making Development Better with Static Analysis <p>I find, when I\\'m reviewing VBA code, that most of the bugs are easily classified errors, such as typos, not setting things to <code>Nothing</code>, not closing DB connections, etc.</p>\\n\\n<p>I know that using \"Option Explicit\" can solve some of these, but I\\'d rather use something more powerful.</p>\\n\\n<p>Are there any static analysis tools for VBA?</p>\\n'"
      ]
     },
     "metadata": {},
     "output_type": "display_data"
    },
    {
     "name": "stdout",
     "output_type": "stream",
     "text": [
      "\n",
      "=====Body_Title Nettoyé=====\n"
     ]
    },
    {
     "data": {
      "text/plain": [
       "'making development better with static analysis i find when i m reviewing vba code that most of the bugs are easily classified errors such as typos not setting things to nothing not closing db connections etc i know that using option explicit can solve some of these but i d rather use something more powerful are there any static analysis tools for vba'"
      ]
     },
     "metadata": {},
     "output_type": "display_data"
    },
    {
     "name": "stdout",
     "output_type": "stream",
     "text": [
      "\n",
      "=====Top 15 Mots TF-IDF=====\n"
     ]
    },
    {
     "data": {
      "text/html": [
       "<div>\n",
       "<style scoped>\n",
       "    .dataframe tbody tr th:only-of-type {\n",
       "        vertical-align: middle;\n",
       "    }\n",
       "\n",
       "    .dataframe tbody tr th {\n",
       "        vertical-align: top;\n",
       "    }\n",
       "\n",
       "    .dataframe thead th {\n",
       "        text-align: right;\n",
       "    }\n",
       "</style>\n",
       "<table border=\"1\" class=\"dataframe\">\n",
       "  <thead>\n",
       "    <tr style=\"text-align: right;\">\n",
       "      <th></th>\n",
       "      <th>feature</th>\n",
       "      <th>tfidf</th>\n",
       "    </tr>\n",
       "  </thead>\n",
       "  <tbody>\n",
       "    <tr>\n",
       "      <th>0</th>\n",
       "      <td>vba</td>\n",
       "      <td>0.576274</td>\n",
       "    </tr>\n",
       "    <tr>\n",
       "      <th>1</th>\n",
       "      <td>static</td>\n",
       "      <td>0.375467</td>\n",
       "    </tr>\n",
       "    <tr>\n",
       "      <th>2</th>\n",
       "      <td>reviewing</td>\n",
       "      <td>0.363104</td>\n",
       "    </tr>\n",
       "    <tr>\n",
       "      <th>3</th>\n",
       "      <td>bugs</td>\n",
       "      <td>0.281752</td>\n",
       "    </tr>\n",
       "    <tr>\n",
       "      <th>4</th>\n",
       "      <td>closing</td>\n",
       "      <td>0.278213</td>\n",
       "    </tr>\n",
       "    <tr>\n",
       "      <th>5</th>\n",
       "      <td>connections</td>\n",
       "      <td>0.267103</td>\n",
       "    </tr>\n",
       "    <tr>\n",
       "      <th>6</th>\n",
       "      <td>tools</td>\n",
       "      <td>0.208878</td>\n",
       "    </tr>\n",
       "    <tr>\n",
       "      <th>7</th>\n",
       "      <td>making</td>\n",
       "      <td>0.207475</td>\n",
       "    </tr>\n",
       "    <tr>\n",
       "      <th>8</th>\n",
       "      <td>errors</td>\n",
       "      <td>0.206735</td>\n",
       "    </tr>\n",
       "    <tr>\n",
       "      <th>9</th>\n",
       "      <td>db</td>\n",
       "      <td>0.193756</td>\n",
       "    </tr>\n",
       "    <tr>\n",
       "      <th>10</th>\n",
       "      <td>fontweight</td>\n",
       "      <td>0.000000</td>\n",
       "    </tr>\n",
       "    <tr>\n",
       "      <th>11</th>\n",
       "      <td>folder</td>\n",
       "      <td>0.000000</td>\n",
       "    </tr>\n",
       "    <tr>\n",
       "      <th>12</th>\n",
       "      <td>folders</td>\n",
       "      <td>0.000000</td>\n",
       "    </tr>\n",
       "    <tr>\n",
       "      <th>13</th>\n",
       "      <td>folks</td>\n",
       "      <td>0.000000</td>\n",
       "    </tr>\n",
       "    <tr>\n",
       "      <th>14</th>\n",
       "      <td>footer</td>\n",
       "      <td>0.000000</td>\n",
       "    </tr>\n",
       "  </tbody>\n",
       "</table>\n",
       "</div>"
      ],
      "text/plain": [
       "        feature     tfidf\n",
       "0           vba  0.576274\n",
       "1        static  0.375467\n",
       "2     reviewing  0.363104\n",
       "3          bugs  0.281752\n",
       "4       closing  0.278213\n",
       "5   connections  0.267103\n",
       "6         tools  0.208878\n",
       "7        making  0.207475\n",
       "8        errors  0.206735\n",
       "9            db  0.193756\n",
       "10   fontweight  0.000000\n",
       "11       folder  0.000000\n",
       "12      folders  0.000000\n",
       "13        folks  0.000000\n",
       "14       footer  0.000000"
      ]
     },
     "execution_count": 77,
     "metadata": {},
     "output_type": "execute_result"
    }
   ],
   "source": [
    "row_example=200\n",
    "print(\"\\n=====Body_Title=====\")\n",
    "display(df_raw[\"Body_Title\"].iloc[row_example])\n",
    "print(\"\\n=====Body_Title Nettoyé=====\")\n",
    "display(text_processing(df_raw[\"Body_Title\"].iloc[row_example]))\n",
    "print(\"\\n=====Top 15 Mots TF-IDF=====\")\n",
    "top_feats_in_doc(bodytitle_words,features=vectorizer.get_feature_names(), row_id=row_example, top_n=15)"
   ]
  },
  {
   "cell_type": "markdown",
   "metadata": {},
   "source": [
    "## Traitement des TAGS"
   ]
  },
  {
   "cell_type": "markdown",
   "metadata": {},
   "source": [
    "Nous cherchons à récupérer les Tags présents pour l'ensemble des questions afin de pouvoir les classer par fréquence d'apparition."
   ]
  },
  {
   "cell_type": "markdown",
   "metadata": {},
   "source": [
    "### Fréquence des Tags"
   ]
  },
  {
   "cell_type": "code",
   "execution_count": 78,
   "metadata": {},
   "outputs": [],
   "source": [
    "# feature engineering. On crée 5 nouvelles features pour les tags\n",
    "question_tags_featured = ['Tag_1', 'Tag_2', 'Tag_3', 'Tag_4', 'Tag_5']"
   ]
  },
  {
   "cell_type": "code",
   "execution_count": 79,
   "metadata": {},
   "outputs": [],
   "source": [
    "# On retire les Tags chevrons\n",
    "df_raw['Tags'] = df_raw.Tags.apply(lambda x: x.strip('<').strip('>').replace('>', '').replace('<', '/'))\n",
    "\n",
    "# On compte les Tags présents\n",
    "df_raw['number_of_Tags'] = df_raw.Tags.apply(lambda x: len(x.split('/')))\n",
    "\n",
    "# découpage des tags\n",
    "tags_lists = df_raw.Tags.apply(lambda x: x.split('/'))"
   ]
  },
  {
   "cell_type": "code",
   "execution_count": 80,
   "metadata": {
    "code_folding": []
   },
   "outputs": [],
   "source": [
    "# Initialisation de la nouvelle liste de Tags\n",
    "filled_tags_list = []\n",
    "# boucle sur la liste de tags\n",
    "for inner_list in tags_lists:\n",
    "    # taille de la liste\n",
    "    length = len(inner_list)\n",
    "    \n",
    "    while length < 5:\n",
    "        inner_list.append(np.nan)\n",
    "        length = len(inner_list)\n",
    "    filled_tags_list.append(inner_list)"
   ]
  },
  {
   "cell_type": "code",
   "execution_count": 81,
   "metadata": {},
   "outputs": [],
   "source": [
    "# Création de dataframe\n",
    "tags_df = pd.DataFrame(filled_tags_list)\n",
    "\n",
    "# Suppression de colonne vide\n",
    "tags_df=tags_df[tags_df.columns[:-1]]\n",
    "tags_df.index = df_raw.index\n",
    "tags_df.columns = question_tags_featured"
   ]
  },
  {
   "cell_type": "code",
   "execution_count": 82,
   "metadata": {},
   "outputs": [
    {
     "data": {
      "image/png": "[encoded data removed]",
      "text/plain": [
       "<Figure size 720x576 with 1 Axes>"
      ]
     },
     "metadata": {
      "needs_background": "light"
     },
     "output_type": "display_data"
    }
   ],
   "source": [
    "# concatenation des tags avec la dataframe de départ\n",
    "df_raw = pd.concat((df_raw, tags_df), axis=1)\n",
    "count_tags_df=count_tags(df_raw)\n",
    "fig, ax = plt.subplots(figsize=(10, 8))\n",
    "plot = sns.barplot(y='Tag', x='Count', data=count_tags_df[:50], orient='h')\n",
    "ax.set_title(\"TOP 50 des Tags les plus populaires\", fontsize=16, weight=\"bold\")\n",
    "ax.set_ylabel(\"Tags les plus représentés\", fontsize=14)\n",
    "ax.set_xlabel(\"Nombre d'occurences\", fontsize=14);\n"
   ]
  },
  {
   "cell_type": "code",
   "execution_count": 83,
   "metadata": {},
   "outputs": [
    {
     "data": {
      "text/html": [
       "<div>\n",
       "<style scoped>\n",
       "    .dataframe tbody tr th:only-of-type {\n",
       "        vertical-align: middle;\n",
       "    }\n",
       "\n",
       "    .dataframe tbody tr th {\n",
       "        vertical-align: top;\n",
       "    }\n",
       "\n",
       "    .dataframe thead th {\n",
       "        text-align: right;\n",
       "    }\n",
       "</style>\n",
       "<table border=\"1\" class=\"dataframe\">\n",
       "  <thead>\n",
       "    <tr style=\"text-align: right;\">\n",
       "      <th></th>\n",
       "      <th>Tag</th>\n",
       "      <th>Count</th>\n",
       "      <th>Pourcentage (%)</th>\n",
       "    </tr>\n",
       "  </thead>\n",
       "  <tbody>\n",
       "    <tr>\n",
       "      <th>0</th>\n",
       "      <td>c#</td>\n",
       "      <td>7043</td>\n",
       "      <td>4.868153</td>\n",
       "    </tr>\n",
       "    <tr>\n",
       "      <th>1</th>\n",
       "      <td>.net</td>\n",
       "      <td>4482</td>\n",
       "      <td>3.097978</td>\n",
       "    </tr>\n",
       "    <tr>\n",
       "      <th>2</th>\n",
       "      <td>java</td>\n",
       "      <td>3576</td>\n",
       "      <td>2.471747</td>\n",
       "    </tr>\n",
       "    <tr>\n",
       "      <th>3</th>\n",
       "      <td>asp.net</td>\n",
       "      <td>3270</td>\n",
       "      <td>2.260238</td>\n",
       "    </tr>\n",
       "    <tr>\n",
       "      <th>4</th>\n",
       "      <td>javascript</td>\n",
       "      <td>2582</td>\n",
       "      <td>1.784690</td>\n",
       "    </tr>\n",
       "    <tr>\n",
       "      <th>5</th>\n",
       "      <td>c++</td>\n",
       "      <td>2487</td>\n",
       "      <td>1.719025</td>\n",
       "    </tr>\n",
       "    <tr>\n",
       "      <th>6</th>\n",
       "      <td>php</td>\n",
       "      <td>2143</td>\n",
       "      <td>1.481251</td>\n",
       "    </tr>\n",
       "    <tr>\n",
       "      <th>7</th>\n",
       "      <td>python</td>\n",
       "      <td>1833</td>\n",
       "      <td>1.266978</td>\n",
       "    </tr>\n",
       "    <tr>\n",
       "      <th>8</th>\n",
       "      <td>sql</td>\n",
       "      <td>1702</td>\n",
       "      <td>1.176430</td>\n",
       "    </tr>\n",
       "    <tr>\n",
       "      <th>9</th>\n",
       "      <td>sql-server</td>\n",
       "      <td>1638</td>\n",
       "      <td>1.132193</td>\n",
       "    </tr>\n",
       "  </tbody>\n",
       "</table>\n",
       "</div>"
      ],
      "text/plain": [
       "          Tag  Count  Pourcentage (%)\n",
       "0          c#   7043         4.868153\n",
       "1        .net   4482         3.097978\n",
       "2        java   3576         2.471747\n",
       "3     asp.net   3270         2.260238\n",
       "4  javascript   2582         1.784690\n",
       "5         c++   2487         1.719025\n",
       "6         php   2143         1.481251\n",
       "7      python   1833         1.266978\n",
       "8         sql   1702         1.176430\n",
       "9  sql-server   1638         1.132193"
      ]
     },
     "execution_count": 83,
     "metadata": {},
     "output_type": "execute_result"
    }
   ],
   "source": [
    "#TOP 10 TAGS\n",
    "count_tags_df.head(10)"
   ]
  },
  {
   "cell_type": "code",
   "execution_count": 84,
   "metadata": {},
   "outputs": [
    {
     "name": "stdout",
     "output_type": "stream",
     "text": [
      "Nous possédons 9098 Tag différents\n"
     ]
    }
   ],
   "source": [
    "# On compte le nombre tags différents\n",
    "temp_list = [x.split('/') for x in df_raw.Tags.values.tolist()]\n",
    "tags_list = [y for x in temp_list for y in x]\n",
    "unique_tags = list(set(tags_list))\n",
    "# Suppression des nan\n",
    "for value in unique_tags:\n",
    "    try:\n",
    "        if np.isnan(value):\n",
    "            unique_tags.remove(value)\n",
    "    except:\n",
    "        pass\n",
    "print(\"Nous possédons {} Tag différents\".format(len(unique_tags)))"
   ]
  },
  {
   "cell_type": "markdown",
   "metadata": {},
   "source": [
    "Regardons maintenant la répartition des nombres de tags attribués à chaque question."
   ]
  },
  {
   "cell_type": "code",
   "execution_count": 85,
   "metadata": {},
   "outputs": [
    {
     "data": {
      "image/png": "[encoded data removed]",
      "text/plain": [
       "<Figure size 720x360 with 1 Axes>"
      ]
     },
     "metadata": {
      "needs_background": "light"
     },
     "output_type": "display_data"
    }
   ],
   "source": [
    "fig, ax = plt.subplots(figsize=(10, 5))\n",
    "ax.set_title(\"Répartition des nombres de tags attribués à chaque question\", fontsize=16, weight=\"bold\");\n",
    "sns.countplot(df_raw['number_of_Tags'])\n",
    "ax.set_ylabel(\"Nombre d'occurences\", fontsize=14)\n",
    "ax.set_xlabel(\"Nombre de Tags\", fontsize=14);\n"
   ]
  },
  {
   "cell_type": "markdown",
   "metadata": {},
   "source": [
    "### Quelques variables à conserver..."
   ]
  },
  {
   "cell_type": "code",
   "execution_count": 86,
   "metadata": {},
   "outputs": [],
   "source": [
    "# Récupération du nombre de tags et du tag le plus populaire\n",
    "most_popular_tag = count_tags_df.Tag[0]\n",
    "\n",
    "# On récupère tous les tags pour une utilisation ultérieure\n",
    "unique_tags_serie = pd.Series(unique_tags).apply(lambda x: [x])"
   ]
  },
  {
   "cell_type": "markdown",
   "metadata": {},
   "source": [
    "# Préparation de la Pipeline pour l'entrainement des données"
   ]
  },
  {
   "cell_type": "markdown",
   "metadata": {},
   "source": [
    "### Réduction de dimension par séléction du ratio de tags à conserver"
   ]
  },
  {
   "cell_type": "code",
   "execution_count": 87,
   "metadata": {},
   "outputs": [
    {
     "name": "stdout",
     "output_type": "stream",
     "text": [
      "Sélection de 99 Tags dans notre jeu d'entrainement\n"
     ]
    }
   ],
   "source": [
    "# On définit un pourcentage seuil\n",
    "threshold_percentage = 50\n",
    "threshold_count = 0\n",
    "\n",
    "# Création d'une dataframe\n",
    "df_work = df_raw\n",
    "count_tags_df = count_tags(df_work)\n",
    "top_tags = count_tags_df[count_tags_df[\"Pourcentage (%)\"].cumsum(axis=0)<threshold_percentage]\n",
    "list_top_tags = top_tags.Tag.tolist()\n",
    "\n",
    "# On sélectionne les données qui possèdent plus que le seuil imposé\n",
    "selected_tags = top_tags[top_tags[\"Count\"] >= threshold_count][\"Tag\"]\n",
    "\n",
    "print(\"Sélection de {} Tags dans notre jeu d'entrainement\".format(selected_tags.shape[0]))"
   ]
  },
  {
   "cell_type": "code",
   "execution_count": 88,
   "metadata": {},
   "outputs": [
    {
     "name": "stdout",
     "output_type": "stream",
     "text": [
      "Nettoyage Body_Title\n",
      "Vectorisation de Body_Title en bag of words en cours\n",
      "Vectorisation de Body_Title effectuée\n",
      "Taille suite à vectorisation de Body_Title (32271, 3849)\n",
      "Fin du data preprocessing\n",
      "Nettoyage Body_Title\n",
      "Vectorisation de Body_Title en bag of words en cours\n",
      "Vectorisation de Body_Title effectuée\n",
      "Taille suite à vectorisation de Body_Title (10757, 3849)\n",
      "Fin du data preprocessing\n"
     ]
    }
   ],
   "source": [
    "\n",
    "# Retrait les tags pour chaque question qui ne sont pas parmi le top tags retenus.\n",
    "mask = df_work[question_tags_featured].isin(list_top_tags)\n",
    "df_work[question_tags_featured]=df_work[mask][question_tags_featured]\n",
    "df_work = df_work[(df_work.T != 0).any()]\n",
    "df_work = df_work.dropna(thresh=len(df_work.columns)-4)\n",
    "\n",
    "# On distingue nos données en jeu d'entrainement et jeu de test \n",
    "data_train, data_test = model_selection.train_test_split(df_work, test_size=0.25)\n",
    "data_train[\"New_tags\"] = data_train[question_tags_featured].apply(lambda x: '/'.join(x.dropna()),axis=1)\n",
    "data_test[\"New_tags\"] = data_test[question_tags_featured].apply(lambda x: '/'.join(x.dropna()),axis=1)\n",
    "\n",
    "# On applique le traitement sur les données d'entrainement pour obtenir le vecteur d'entrainement\n",
    "X_train, vectorizer = data_preprocessing(data_train)\n",
    "\n",
    "# On applique le vectorizer sur les données test pour obtenir le vecteur de test\n",
    "X_test = data_preprocessing_test(data_test,vectorizer)\n"
   ]
  },
  {
   "cell_type": "markdown",
   "metadata": {},
   "source": [
    "Nous pouvons visualiser les tags d'origine avec les Tags transformés-filtrés après Feature Engineering"
   ]
  },
  {
   "cell_type": "code",
   "execution_count": 89,
   "metadata": {},
   "outputs": [
    {
     "data": {
      "text/html": [
       "<div>\n",
       "<style scoped>\n",
       "    .dataframe tbody tr th:only-of-type {\n",
       "        vertical-align: middle;\n",
       "    }\n",
       "\n",
       "    .dataframe tbody tr th {\n",
       "        vertical-align: top;\n",
       "    }\n",
       "\n",
       "    .dataframe thead th {\n",
       "        text-align: right;\n",
       "    }\n",
       "</style>\n",
       "<table border=\"1\" class=\"dataframe\">\n",
       "  <thead>\n",
       "    <tr style=\"text-align: right;\">\n",
       "      <th></th>\n",
       "      <th>Tags</th>\n",
       "      <th>New_tags</th>\n",
       "    </tr>\n",
       "  </thead>\n",
       "  <tbody>\n",
       "    <tr>\n",
       "      <th>36197</th>\n",
       "      <td>c#/dataset/relation</td>\n",
       "      <td>c#</td>\n",
       "    </tr>\n",
       "    <tr>\n",
       "      <th>53731</th>\n",
       "      <td>asp.net-mvc/routes</td>\n",
       "      <td>asp.net-mvc</td>\n",
       "    </tr>\n",
       "    <tr>\n",
       "      <th>59060</th>\n",
       "      <td>javascript/optimization/dom</td>\n",
       "      <td>javascript/optimization</td>\n",
       "    </tr>\n",
       "    <tr>\n",
       "      <th>126859</th>\n",
       "      <td>c#/.net/friendfeed</td>\n",
       "      <td>c#/.net</td>\n",
       "    </tr>\n",
       "    <tr>\n",
       "      <th>31264</th>\n",
       "      <td>php/regex</td>\n",
       "      <td>php/regex</td>\n",
       "    </tr>\n",
       "    <tr>\n",
       "      <th>41158</th>\n",
       "      <td>sharepoint/moss</td>\n",
       "      <td>sharepoint</td>\n",
       "    </tr>\n",
       "    <tr>\n",
       "      <th>142210</th>\n",
       "      <td>windows</td>\n",
       "      <td>windows</td>\n",
       "    </tr>\n",
       "    <tr>\n",
       "      <th>98165</th>\n",
       "      <td>css/firefox/printing/print-css</td>\n",
       "      <td>css/firefox</td>\n",
       "    </tr>\n",
       "    <tr>\n",
       "      <th>38172</th>\n",
       "      <td>asp.net/file-upload</td>\n",
       "      <td>asp.net</td>\n",
       "    </tr>\n",
       "    <tr>\n",
       "      <th>12592</th>\n",
       "      <td>c#/class</td>\n",
       "      <td>c#</td>\n",
       "    </tr>\n",
       "    <tr>\n",
       "      <th>11146</th>\n",
       "      <td>design/oop</td>\n",
       "      <td>design/oop</td>\n",
       "    </tr>\n",
       "    <tr>\n",
       "      <th>31194</th>\n",
       "      <td>java/oracle/blob/classcastexception</td>\n",
       "      <td>java/oracle</td>\n",
       "    </tr>\n",
       "    <tr>\n",
       "      <th>64507</th>\n",
       "      <td>.net/design-by-contract</td>\n",
       "      <td>.net</td>\n",
       "    </tr>\n",
       "    <tr>\n",
       "      <th>17728</th>\n",
       "      <td>database-design</td>\n",
       "      <td>database-design</td>\n",
       "    </tr>\n",
       "    <tr>\n",
       "      <th>89096</th>\n",
       "      <td>sql/sql-server</td>\n",
       "      <td>sql/sql-server</td>\n",
       "    </tr>\n",
       "  </tbody>\n",
       "</table>\n",
       "</div>"
      ],
      "text/plain": [
       "                                       Tags                 New_tags\n",
       "36197                   c#/dataset/relation                       c#\n",
       "53731                    asp.net-mvc/routes              asp.net-mvc\n",
       "59060           javascript/optimization/dom  javascript/optimization\n",
       "126859                   c#/.net/friendfeed                  c#/.net\n",
       "31264                             php/regex                php/regex\n",
       "41158                       sharepoint/moss               sharepoint\n",
       "142210                              windows                  windows\n",
       "98165        css/firefox/printing/print-css              css/firefox\n",
       "38172                   asp.net/file-upload                  asp.net\n",
       "12592                              c#/class                       c#\n",
       "11146                            design/oop               design/oop\n",
       "31194   java/oracle/blob/classcastexception              java/oracle\n",
       "64507               .net/design-by-contract                     .net\n",
       "17728                       database-design          database-design\n",
       "89096                        sql/sql-server           sql/sql-server"
      ]
     },
     "execution_count": 89,
     "metadata": {},
     "output_type": "execute_result"
    }
   ],
   "source": [
    "# Comparaison des tags\n",
    "data_train[[\"Tags\",\"New_tags\"]].head(15)"
   ]
  },
  {
   "cell_type": "markdown",
   "metadata": {},
   "source": [
    "###  Obtention des variables cibles"
   ]
  },
  {
   "cell_type": "code",
   "execution_count": 90,
   "metadata": {},
   "outputs": [
    {
     "name": "stdout",
     "output_type": "stream",
     "text": [
      " La dataframe cible contient 99 tags...Traitement en cours\n",
      "Traitement terminé\n",
      " La dataframe cible contient 99 tags...Traitement en cours\n",
      "Traitement terminé\n"
     ]
    }
   ],
   "source": [
    "# on fait appel à la fonction ml_create_target_df pour formater nos étiquettes de tags\n",
    "y_train = ml_create_target_df(selected_tags, data_train)\n",
    "y_test = ml_create_target_df(selected_tags, data_test)"
   ]
  },
  {
   "cell_type": "code",
   "execution_count": 91,
   "metadata": {},
   "outputs": [
    {
     "name": "stdout",
     "output_type": "stream",
     "text": [
      "(32271, 3849)\n",
      "(10757, 3849)\n"
     ]
    }
   ],
   "source": [
    "print(X_train.shape)\n",
    "print(X_test.shape)"
   ]
  },
  {
   "cell_type": "markdown",
   "metadata": {},
   "source": [
    "## Sauvegardes"
   ]
  },
  {
   "cell_type": "markdown",
   "metadata": {},
   "source": [
    "Nous sauvegardons nos jeux d'entrainement et de test ainsi que différentes dataframes et données utiles pour la suite."
   ]
  },
  {
   "cell_type": "code",
   "execution_count": 92,
   "metadata": {},
   "outputs": [
    {
     "data": {
      "text/plain": [
       "['C:\\\\Users\\\\Windows 10\\\\Desktop\\\\Formations\\\\OpenClassRooms\\\\Projet 6\\\\pipeline\\\\list_top_tags.pkl']"
      ]
     },
     "execution_count": 92,
     "metadata": {},
     "output_type": "execute_result"
    }
   ],
   "source": [
    "# Sauvegardes des pipelines au format .pkl\n",
    "joblib.dump(X_train, parent_path + \"\\\\pipeline\\\\X_train.pkl\")\n",
    "joblib.dump(X_test, parent_path + \"\\\\pipeline\\\\X_test.pkl\")\n",
    "joblib.dump(data_train, parent_path + \"\\\\pipeline\\\\data_train.pkl\")\n",
    "joblib.dump(data_test, parent_path + \"\\\\pipeline\\\\data_test.pkl\")\n",
    "joblib.dump(y_train, parent_path + \"\\\\pipeline\\\\y_train.pkl\")\n",
    "joblib.dump(y_test, parent_path + \"\\\\pipeline\\\\y_test.pkl\")\n",
    "\n",
    "# # Sauvegardes des Dataframes et données au format .pkl\n",
    "joblib.dump(vectorizer, parent_path + \"\\\\pipeline\\\\vectorizer.pkl\")\n",
    "joblib.dump(count_tags_df, parent_path + \"\\\\pipeline\\\\count_tags_df.pkl\")\n",
    "joblib.dump(most_popular_tag, parent_path + \"\\\\pipeline\\\\most_popular_tag.pkl\")\n",
    "joblib.dump(unique_tags_serie, parent_path + \"\\\\pipeline\\\\unique_tags_serie.pkl\")\n",
    "joblib.dump(unique_tags, parent_path + \"\\\\pipeline\\\\unique_tags.pkl\")\n",
    "joblib.dump(selected_tags,parent_path + \"\\\\pipeline\\\\selected_tags.pkl\")\n",
    "joblib.dump(list_top_tags, parent_path + \"\\\\pipeline\\\\list_top_tags.pkl\")"
   ]
  }
 ],
 "metadata": {
  "kernelspec": {
   "display_name": "Python 3",
   "language": "python",
   "name": "python3"
  },
  "language_info": {
   "codemirror_mode": {
    "name": "ipython",
    "version": 3
   },
   "file_extension": ".py",
   "mimetype": "text/x-python",
   "name": "python",
   "nbconvert_exporter": "python",
   "pygments_lexer": "ipython3",
   "version": "3.7.2"
  }
 },
 "nbformat": 4,
 "nbformat_minor": 2
}
