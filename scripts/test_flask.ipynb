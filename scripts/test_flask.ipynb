{
 "cells": [
  {
   "cell_type": "code",
   "execution_count": 73,
   "metadata": {},
   "outputs": [],
   "source": [
    "from flask import Flask\n",
    "from flask import jsonify\n",
    "import os\n",
    "import sys\n",
    "import scipy\n",
    "import numpy as np\n",
    "import pandas as pd\n",
    "from sklearn import metrics, preprocessing\n",
    "from modules import ml_create_target_df, get_top_probable_tags, mean_local_score, f1_local_score_accuracy, text_processing, text_processing_advanced, local_score\n",
    "from sklearn.externals import joblib"
   ]
  },
  {
   "cell_type": "code",
   "execution_count": 74,
   "metadata": {},
   "outputs": [],
   "source": [
    "def prediction_simple():\n",
    "    \n",
    "    current_path = os.getcwd()\n",
    "    parent_path = os.path.dirname(current_path)\n",
    "    # I. On récupère les données utilisateur\n",
    "    title_input = request.form['Title']\n",
    "    body_input = request.form['Body']\n",
    "\n",
    "    body_title_input = title_input + \" \"+ body_input\n",
    "\n",
    "# II. Nettoyage\tdu texte.\n",
    "    body_title_input_cleaned = text_processing_advanced(body_title_input)\n",
    "    \n",
    "# III. Chargement des variables utiles liées à notre jeu d'entrainement\n",
    "    vectorizer_train = joblib.load(current_path + \"/mysite/pipeline/vectorizer.pkl\")\n",
    "    count_tags_df = joblib.load(current_path + \"/mysite/pipeline/count_tags_df.pkl\")\n",
    "    most_popular_tag = joblib.load(current_path + \"/mysite/pipeline/most_popular_tag.pkl\")\n",
    "    unique_tags_serie = joblib.load(current_path + \"/mysite/pipeline/unique_tags_serie.pkl\")\n",
    "    unique_tags = joblib.load(current_path + \"/mysite/pipeline/unique_tags.pkl\")\n",
    "    train_selected_tags = joblib.load(current_path + \"/mysite/pipeline/selected_tags.pkl\")\n",
    "    list_top_tags = joblib.load(current_path + \"/mysite/pipeline/list_top_tags.pkl\")\n",
    "\n",
    "    # IV. Chargement des classifieurs (logistical regression)\n",
    "    training_classifiers = []\n",
    "    for tag in train_selected_tags:\n",
    "        training_classifiers.append(joblib.load(parent_path + \"/classifiers/logistical_regression/logreg_\" + tag +\".pkl\"))\n",
    "    \n",
    "    body_title_input_cleaned = body_title_input_cleaned.split(\"0\")\n",
    "\n",
    "    # V. Application du vectorizer_train de notre training\n",
    "    X_input = vectorizer_train.transform(body_title_input_cleaned)\n",
    "\n",
    "    # VI. Prédiction de la probabilité\n",
    "    print(\"Prédiction de la probabilité pour chaque question d'appartenir à Tag donné en cours de traitement...\")\n",
    "    input_predictions = []\n",
    "    count = 1\n",
    "    zero_array = np.zeros((X_input.shape[0]))\n",
    "    for clf in training_classifiers:\n",
    "        prediction = clf.predict_proba(X_input)\n",
    "\n",
    "        if prediction.shape[1] == 2:\n",
    "            input_predictions.append(prediction[:,1])\n",
    "        elif prediction.shape[1] == 1:\n",
    "            input_predictions.append(zero_array)\n",
    "        count += 1\n",
    "\n",
    "    X_input_predictions_df = pd.DataFrame(np.array(input_predictions).T, columns = train_selected_tags)\n",
    "    TAGS = get_top_probable_tags(X_input_predictions_df.iloc[0], train_selected_tags)"
   ]
  },
  {
   "cell_type": "code",
   "execution_count": 80,
   "metadata": {},
   "outputs": [],
   "source": []
  },
  {
   "cell_type": "code",
   "execution_count": 83,
   "metadata": {},
   "outputs": [],
   "source": []
  },
  {
   "cell_type": "code",
   "execution_count": 84,
   "metadata": {},
   "outputs": [
    {
     "data": {
      "text/plain": [
       "'networking/sockets/c#/java/c++'"
      ]
     },
     "execution_count": 84,
     "metadata": {},
     "output_type": "execute_result"
    }
   ],
   "source": [
    "TAGS"
   ]
  },
  {
   "cell_type": "code",
   "execution_count": null,
   "metadata": {},
   "outputs": [],
   "source": []
  }
 ],
 "metadata": {
  "kernelspec": {
   "display_name": "Python 3",
   "language": "python",
   "name": "python3"
  },
  "language_info": {
   "codemirror_mode": {
    "name": "ipython",
    "version": 3
   },
   "file_extension": ".py",
   "mimetype": "text/x-python",
   "name": "python",
   "nbconvert_exporter": "python",
   "pygments_lexer": "ipython3",
   "version": "3.7.0"
  }
 },
 "nbformat": 4,
 "nbformat_minor": 2
}
