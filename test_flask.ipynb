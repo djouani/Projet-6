{
 "cells": [
  {
   "cell_type": "code",
   "execution_count": 2,
   "metadata": {},
   "outputs": [
    {
     "ename": "ModuleNotFoundError",
     "evalue": "No module named 'modules'",
     "output_type": "error",
     "traceback": [
      "\u001b[1;31m---------------------------------------------------------------------------\u001b[0m",
      "\u001b[1;31mModuleNotFoundError\u001b[0m                       Traceback (most recent call last)",
      "\u001b[1;32m<ipython-input-2-2ad673b25e4a>\u001b[0m in \u001b[0;36m<module>\u001b[1;34m()\u001b[0m\n\u001b[0;32m      7\u001b[0m \u001b[1;32mimport\u001b[0m \u001b[0mpandas\u001b[0m \u001b[1;32mas\u001b[0m \u001b[0mpd\u001b[0m\u001b[1;33m\u001b[0m\u001b[0m\n\u001b[0;32m      8\u001b[0m \u001b[1;32mfrom\u001b[0m \u001b[0msklearn\u001b[0m \u001b[1;32mimport\u001b[0m \u001b[0mmetrics\u001b[0m\u001b[1;33m,\u001b[0m \u001b[0mpreprocessing\u001b[0m\u001b[1;33m\u001b[0m\u001b[0m\n\u001b[1;32m----> 9\u001b[1;33m \u001b[1;32mfrom\u001b[0m \u001b[0mmodules\u001b[0m \u001b[1;32mimport\u001b[0m \u001b[0mml_create_target_df\u001b[0m\u001b[1;33m,\u001b[0m \u001b[0mget_top_probable_tags\u001b[0m\u001b[1;33m,\u001b[0m \u001b[0mmean_local_score\u001b[0m\u001b[1;33m,\u001b[0m \u001b[0mf1_local_score_accuracy\u001b[0m\u001b[1;33m,\u001b[0m \u001b[0mtext_processing\u001b[0m\u001b[1;33m,\u001b[0m \u001b[0mtext_processing_advanced\u001b[0m\u001b[1;33m,\u001b[0m \u001b[0mlocal_score\u001b[0m\u001b[1;33m\u001b[0m\u001b[0m\n\u001b[0m\u001b[0;32m     10\u001b[0m \u001b[1;32mfrom\u001b[0m \u001b[0msklearn\u001b[0m\u001b[1;33m.\u001b[0m\u001b[0mexternals\u001b[0m \u001b[1;32mimport\u001b[0m \u001b[0mjoblib\u001b[0m\u001b[1;33m\u001b[0m\u001b[0m\n",
      "\u001b[1;31mModuleNotFoundError\u001b[0m: No module named 'modules'"
     ]
    }
   ],
   "source": [
    "from flask import Flask\n",
    "from flask import jsonify\n",
    "import os\n",
    "import sys\n",
    "import scipy\n",
    "import numpy as np\n",
    "import pandas as pd\n",
    "from sklearn import metrics, preprocessing\n",
    "from modules import ml_create_target_df, get_top_probable_tags, mean_local_score, f1_local_score_accuracy, text_processing, text_processing_advanced, local_score\n",
    "from sklearn.externals import joblib"
   ]
  },
  {
   "cell_type": "code",
   "execution_count": null,
   "metadata": {},
   "outputs": [],
   "source": [
    "def prediction_simple():\n",
    "\tcurrent_path = os.getcwd()\n",
    "\t#parent_path = os.path.dirname(current_path)\n",
    "\t\n",
    "\n",
    "# I. On récupère les données utilisateur\n",
    "    title_input = request.form['Title']\n",
    "\tbody_input = request.form['Body']\n",
    "\tbody_title_input = title_input + body_input\n",
    "\n",
    "\n",
    "# II. Chargement des variables utiles liées à notre jeu d'entrainement\n",
    "    vectorizer_train = joblib.load(current_path + \"/mysite/pipeline/vectorizer.pkl\")\n",
    "    count_tags_df = joblib.load(current_path + \"/mysite/pipeline/count_tags_df.pkl\")\n",
    "    most_popular_tag = joblib.load(current_path + \"/mysite/pipeline/most_popular_tag.pkl\")\n",
    "    unique_tags_serie = joblib.load(current_path + \"/mysite/pipeline/unique_tags_serie.pkl\")\n",
    "    unique_tags = joblib.load(current_path + \"/mysite/pipeline/unique_tags.pkl\")\n",
    "    train_selected_tags = joblib.load(current_path + \"/mysite/pipeline/selected_tags.pkl\")\n",
    "    list_top_tags = joblib.load(current_path + \"/mysite/pipeline/list_top_tags.pkl\")\n",
    "\t\n",
    "\t\n",
    "# III. Chargement des classifieurs (logistical regression)\n",
    "    training_classifiers = []\n",
    "    for tag in train_selected_tags:\n",
    "        training_classifiers.append(joblib.load(current_path + \"/mysite/classifiers/logistical_regression/logreg_\" + tag +\".pkl\"))\n",
    "\n",
    "\t\n",
    "# IV. Nettoyage\tdu texte.\n",
    "\tbody_title_input_cleaned = text_processing(body_title_input)\n",
    "\t\n",
    "\t\n",
    "# VI. Application du vectorizer_train de notre training\n",
    "    X_input = vectorizer_train.transform(body_title_input_cleaned)\n",
    "\t\n",
    "\t\n",
    "# VII. Prédiction de la probabilité\n",
    "    print(\"Prédiction de la probabilité pour chaque question d'appartenir à Tag donné en cours de traitement...\")\n",
    "    input_predictions = []\n",
    "    count = 1\n",
    "    zero_array = np.zeros((X_input.shape[0]))\n",
    "    for clf in training_classifiers:\n",
    "        prediction = clf.predict_proba(X_input)\n",
    "\n",
    "        if prediction.shape[1] == 2:\n",
    "            input_predictions.append(prediction[:,1])\n",
    "        elif prediction.shape[1] == 1:\n",
    "            input_predictions.append(zero_array)\n",
    "        count += 1\n",
    "    print(\"Affichage des prédictions en cours...\")"
   ]
  }
 ],
 "metadata": {
  "kernelspec": {
   "display_name": "Python 3",
   "language": "python",
   "name": "python3"
  },
  "language_info": {
   "codemirror_mode": {
    "name": "ipython",
    "version": 3
   },
   "file_extension": ".py",
   "mimetype": "text/x-python",
   "name": "python",
   "nbconvert_exporter": "python",
   "pygments_lexer": "ipython3",
   "version": "3.7.0"
  }
 },
 "nbformat": 4,
 "nbformat_minor": 2
}
